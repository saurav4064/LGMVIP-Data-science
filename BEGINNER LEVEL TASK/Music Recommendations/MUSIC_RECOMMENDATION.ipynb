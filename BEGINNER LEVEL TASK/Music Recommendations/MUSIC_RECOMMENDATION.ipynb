{
  "nbformat": 4,
  "nbformat_minor": 0,
  "metadata": {
    "colab": {
      "name": "Task3.ipynb",
      "provenance": [],
      "collapsed_sections": []
    },
    "kernelspec": {
      "name": "python3",
      "display_name": "Python 3"
    },
    "language_info": {
      "name": "python"
    }
  },
  "cells": [
    {
      "cell_type": "markdown",
      "source": [
        "**Music Recommendation**\n",
        "\n",
        "**DATASET LINK :- https://www.kaggle.com/c/kkbox-music-recommendation-challenge/data **\n",
        "\n",
        "**ALGORITHM USED :- Random Forest Classification**"
      ],
      "metadata": {
        "id": "ECtMyNriAHlm"
      }
    },
    {
      "cell_type": "markdown",
      "source": [
        "Importing Libraries."
      ],
      "metadata": {
        "id": "IJn8hhSMZsPI"
      }
    },
    {
      "cell_type": "code",
      "source": [
        "from sklearn.model_selection import cross_validate\n",
        "from sklearn.model_selection import GridSearchCV\n",
        "from sklearn.model_selection import train_test_split\n",
        "from sklearn import ensemble, metrics\n",
        "import xgboost as xgb\n",
        "import numpy as np\n",
        "import pandas as pd\n",
        "import seaborn as sns\n",
        "import matplotlib.pyplot as plt\n",
        "import matplotlib as mpl\n",
        "import warnings"
      ],
      "metadata": {
        "id": "_T8ZE3Mry2fw"
      },
      "execution_count": null,
      "outputs": []
    },
    {
      "cell_type": "markdown",
      "source": [
        "Importing Datasets and preprocessing of Data."
      ],
      "metadata": {
        "id": "bmDKkyVuZ4yv"
      }
    },
    {
      "cell_type": "code",
      "source": [
        "df = pd.read_csv('train.csv')"
      ],
      "metadata": {
        "id": "nLUFOQEfzXbR"
      },
      "execution_count": null,
      "outputs": []
    },
    {
      "cell_type": "code",
      "source": [
        "df.head()"
      ],
      "metadata": {
        "colab": {
          "base_uri": "https://localhost:8080/",
          "height": 305
        },
        "id": "hKe3mor72oGY",
        "outputId": "220ff905-11da-4686-bcf0-5bda3796e3f9"
      },
      "execution_count": null,
      "outputs": [
        {
          "output_type": "execute_result",
          "data": {
            "text/plain": [
              "                                           msno  \\\n",
              "0  FGtllVqz18RPiwJj/edr2gV78zirAiY/9SmYvia+kCg=   \n",
              "1  Xumu+NIjS6QYVxDS4/t3SawvJ7viT9hPKXmf0RtLNx8=   \n",
              "2  Xumu+NIjS6QYVxDS4/t3SawvJ7viT9hPKXmf0RtLNx8=   \n",
              "3  Xumu+NIjS6QYVxDS4/t3SawvJ7viT9hPKXmf0RtLNx8=   \n",
              "4  FGtllVqz18RPiwJj/edr2gV78zirAiY/9SmYvia+kCg=   \n",
              "\n",
              "                                        song_id source_system_tab  \\\n",
              "0  BBzumQNXUHKdEBOB7mAJuzok+IJA1c2Ryg/yzTF6tik=           explore   \n",
              "1  bhp/MpSNoqoxOIB+/l8WPqu6jldth4DIpCm3ayXnJqM=        my library   \n",
              "2  JNWfrrC7zNN7BdMpsISKa4Mw+xVJYNnxXh3/Epw7QgY=        my library   \n",
              "3  2A87tzfnJTSWqD7gIZHisolhe4DMdzkbd6LzO1KHjNs=        my library   \n",
              "4  3qm6XTZ6MOCU11x8FIVbAGH5l5uMkT3/ZalWG1oo2Gc=           explore   \n",
              "\n",
              "    source_screen_name      source_type  target  \n",
              "0              Explore  online-playlist     1.0  \n",
              "1  Local playlist more   local-playlist     1.0  \n",
              "2  Local playlist more   local-playlist     1.0  \n",
              "3  Local playlist more   local-playlist     1.0  \n",
              "4              Explore  online-playlist     1.0  "
            ],
            "text/html": [
              "\n",
              "  <div id=\"df-7493cd45-cce9-4e9d-a368-df7d0db0e517\">\n",
              "    <div class=\"colab-df-container\">\n",
              "      <div>\n",
              "<style scoped>\n",
              "    .dataframe tbody tr th:only-of-type {\n",
              "        vertical-align: middle;\n",
              "    }\n",
              "\n",
              "    .dataframe tbody tr th {\n",
              "        vertical-align: top;\n",
              "    }\n",
              "\n",
              "    .dataframe thead th {\n",
              "        text-align: right;\n",
              "    }\n",
              "</style>\n",
              "<table border=\"1\" class=\"dataframe\">\n",
              "  <thead>\n",
              "    <tr style=\"text-align: right;\">\n",
              "      <th></th>\n",
              "      <th>msno</th>\n",
              "      <th>song_id</th>\n",
              "      <th>source_system_tab</th>\n",
              "      <th>source_screen_name</th>\n",
              "      <th>source_type</th>\n",
              "      <th>target</th>\n",
              "    </tr>\n",
              "  </thead>\n",
              "  <tbody>\n",
              "    <tr>\n",
              "      <th>0</th>\n",
              "      <td>FGtllVqz18RPiwJj/edr2gV78zirAiY/9SmYvia+kCg=</td>\n",
              "      <td>BBzumQNXUHKdEBOB7mAJuzok+IJA1c2Ryg/yzTF6tik=</td>\n",
              "      <td>explore</td>\n",
              "      <td>Explore</td>\n",
              "      <td>online-playlist</td>\n",
              "      <td>1.0</td>\n",
              "    </tr>\n",
              "    <tr>\n",
              "      <th>1</th>\n",
              "      <td>Xumu+NIjS6QYVxDS4/t3SawvJ7viT9hPKXmf0RtLNx8=</td>\n",
              "      <td>bhp/MpSNoqoxOIB+/l8WPqu6jldth4DIpCm3ayXnJqM=</td>\n",
              "      <td>my library</td>\n",
              "      <td>Local playlist more</td>\n",
              "      <td>local-playlist</td>\n",
              "      <td>1.0</td>\n",
              "    </tr>\n",
              "    <tr>\n",
              "      <th>2</th>\n",
              "      <td>Xumu+NIjS6QYVxDS4/t3SawvJ7viT9hPKXmf0RtLNx8=</td>\n",
              "      <td>JNWfrrC7zNN7BdMpsISKa4Mw+xVJYNnxXh3/Epw7QgY=</td>\n",
              "      <td>my library</td>\n",
              "      <td>Local playlist more</td>\n",
              "      <td>local-playlist</td>\n",
              "      <td>1.0</td>\n",
              "    </tr>\n",
              "    <tr>\n",
              "      <th>3</th>\n",
              "      <td>Xumu+NIjS6QYVxDS4/t3SawvJ7viT9hPKXmf0RtLNx8=</td>\n",
              "      <td>2A87tzfnJTSWqD7gIZHisolhe4DMdzkbd6LzO1KHjNs=</td>\n",
              "      <td>my library</td>\n",
              "      <td>Local playlist more</td>\n",
              "      <td>local-playlist</td>\n",
              "      <td>1.0</td>\n",
              "    </tr>\n",
              "    <tr>\n",
              "      <th>4</th>\n",
              "      <td>FGtllVqz18RPiwJj/edr2gV78zirAiY/9SmYvia+kCg=</td>\n",
              "      <td>3qm6XTZ6MOCU11x8FIVbAGH5l5uMkT3/ZalWG1oo2Gc=</td>\n",
              "      <td>explore</td>\n",
              "      <td>Explore</td>\n",
              "      <td>online-playlist</td>\n",
              "      <td>1.0</td>\n",
              "    </tr>\n",
              "  </tbody>\n",
              "</table>\n",
              "</div>\n",
              "      <button class=\"colab-df-convert\" onclick=\"convertToInteractive('df-7493cd45-cce9-4e9d-a368-df7d0db0e517')\"\n",
              "              title=\"Convert this dataframe to an interactive table.\"\n",
              "              style=\"display:none;\">\n",
              "        \n",
              "  <svg xmlns=\"http://www.w3.org/2000/svg\" height=\"24px\"viewBox=\"0 0 24 24\"\n",
              "       width=\"24px\">\n",
              "    <path d=\"M0 0h24v24H0V0z\" fill=\"none\"/>\n",
              "    <path d=\"M18.56 5.44l.94 2.06.94-2.06 2.06-.94-2.06-.94-.94-2.06-.94 2.06-2.06.94zm-11 1L8.5 8.5l.94-2.06 2.06-.94-2.06-.94L8.5 2.5l-.94 2.06-2.06.94zm10 10l.94 2.06.94-2.06 2.06-.94-2.06-.94-.94-2.06-.94 2.06-2.06.94z\"/><path d=\"M17.41 7.96l-1.37-1.37c-.4-.4-.92-.59-1.43-.59-.52 0-1.04.2-1.43.59L10.3 9.45l-7.72 7.72c-.78.78-.78 2.05 0 2.83L4 21.41c.39.39.9.59 1.41.59.51 0 1.02-.2 1.41-.59l7.78-7.78 2.81-2.81c.8-.78.8-2.07 0-2.86zM5.41 20L4 18.59l7.72-7.72 1.47 1.35L5.41 20z\"/>\n",
              "  </svg>\n",
              "      </button>\n",
              "      \n",
              "  <style>\n",
              "    .colab-df-container {\n",
              "      display:flex;\n",
              "      flex-wrap:wrap;\n",
              "      gap: 12px;\n",
              "    }\n",
              "\n",
              "    .colab-df-convert {\n",
              "      background-color: #E8F0FE;\n",
              "      border: none;\n",
              "      border-radius: 50%;\n",
              "      cursor: pointer;\n",
              "      display: none;\n",
              "      fill: #1967D2;\n",
              "      height: 32px;\n",
              "      padding: 0 0 0 0;\n",
              "      width: 32px;\n",
              "    }\n",
              "\n",
              "    .colab-df-convert:hover {\n",
              "      background-color: #E2EBFA;\n",
              "      box-shadow: 0px 1px 2px rgba(60, 64, 67, 0.3), 0px 1px 3px 1px rgba(60, 64, 67, 0.15);\n",
              "      fill: #174EA6;\n",
              "    }\n",
              "\n",
              "    [theme=dark] .colab-df-convert {\n",
              "      background-color: #3B4455;\n",
              "      fill: #D2E3FC;\n",
              "    }\n",
              "\n",
              "    [theme=dark] .colab-df-convert:hover {\n",
              "      background-color: #434B5C;\n",
              "      box-shadow: 0px 1px 3px 1px rgba(0, 0, 0, 0.15);\n",
              "      filter: drop-shadow(0px 1px 2px rgba(0, 0, 0, 0.3));\n",
              "      fill: #FFFFFF;\n",
              "    }\n",
              "  </style>\n",
              "\n",
              "      <script>\n",
              "        const buttonEl =\n",
              "          document.querySelector('#df-7493cd45-cce9-4e9d-a368-df7d0db0e517 button.colab-df-convert');\n",
              "        buttonEl.style.display =\n",
              "          google.colab.kernel.accessAllowed ? 'block' : 'none';\n",
              "\n",
              "        async function convertToInteractive(key) {\n",
              "          const element = document.querySelector('#df-7493cd45-cce9-4e9d-a368-df7d0db0e517');\n",
              "          const dataTable =\n",
              "            await google.colab.kernel.invokeFunction('convertToInteractive',\n",
              "                                                     [key], {});\n",
              "          if (!dataTable) return;\n",
              "\n",
              "          const docLinkHtml = 'Like what you see? Visit the ' +\n",
              "            '<a target=\"_blank\" href=https://colab.research.google.com/notebooks/data_table.ipynb>data table notebook</a>'\n",
              "            + ' to learn more about interactive tables.';\n",
              "          element.innerHTML = '';\n",
              "          dataTable['output_type'] = 'display_data';\n",
              "          await google.colab.output.renderOutput(dataTable, element);\n",
              "          const docLink = document.createElement('div');\n",
              "          docLink.innerHTML = docLinkHtml;\n",
              "          element.appendChild(docLink);\n",
              "        }\n",
              "      </script>\n",
              "    </div>\n",
              "  </div>\n",
              "  "
            ]
          },
          "metadata": {},
          "execution_count": 3
        }
      ]
    },
    {
      "cell_type": "code",
      "source": [
        "df.shape"
      ],
      "metadata": {
        "colab": {
          "base_uri": "https://localhost:8080/"
        },
        "id": "tZzpU_942rdo",
        "outputId": "05d9e5e6-fba4-4e88-8e09-c22ab1317a8f"
      },
      "execution_count": null,
      "outputs": [
        {
          "output_type": "execute_result",
          "data": {
            "text/plain": [
              "(15564, 6)"
            ]
          },
          "metadata": {},
          "execution_count": 4
        }
      ]
    },
    {
      "cell_type": "code",
      "source": [
        "df = df.sample(frac=0.1)"
      ],
      "metadata": {
        "id": "M7f6QHwf2vRI"
      },
      "execution_count": null,
      "outputs": []
    },
    {
      "cell_type": "code",
      "source": [
        "df.info()"
      ],
      "metadata": {
        "colab": {
          "base_uri": "https://localhost:8080/"
        },
        "id": "HSB2YiCN2x7w",
        "outputId": "b6a41496-e528-4a1d-e3e3-e3e11801e9ba"
      },
      "execution_count": null,
      "outputs": [
        {
          "output_type": "stream",
          "name": "stdout",
          "text": [
            "<class 'pandas.core.frame.DataFrame'>\n",
            "Int64Index: 1556 entries, 11212 to 4133\n",
            "Data columns (total 6 columns):\n",
            " #   Column              Non-Null Count  Dtype  \n",
            "---  ------              --------------  -----  \n",
            " 0   msno                1556 non-null   object \n",
            " 1   song_id             1556 non-null   object \n",
            " 2   source_system_tab   1553 non-null   object \n",
            " 3   source_screen_name  1540 non-null   object \n",
            " 4   source_type         1553 non-null   object \n",
            " 5   target              1556 non-null   float64\n",
            "dtypes: float64(1), object(5)\n",
            "memory usage: 85.1+ KB\n"
          ]
        }
      ]
    },
    {
      "cell_type": "code",
      "source": [
        "songs = pd.read_csv('/content/songs.csv')"
      ],
      "metadata": {
        "id": "aO-v79rv3MtJ"
      },
      "execution_count": null,
      "outputs": []
    },
    {
      "cell_type": "code",
      "source": [
        "songs.info()"
      ],
      "metadata": {
        "colab": {
          "base_uri": "https://localhost:8080/"
        },
        "id": "QjyAgCRR3QKn",
        "outputId": "f2d2fa91-309e-498b-ec72-a657c560d572"
      },
      "execution_count": null,
      "outputs": [
        {
          "output_type": "stream",
          "name": "stdout",
          "text": [
            "<class 'pandas.core.frame.DataFrame'>\n",
            "RangeIndex: 31674 entries, 0 to 31673\n",
            "Data columns (total 7 columns):\n",
            " #   Column       Non-Null Count  Dtype  \n",
            "---  ------       --------------  -----  \n",
            " 0   song_id      31674 non-null  object \n",
            " 1   song_length  31674 non-null  int64  \n",
            " 2   genre_ids    31142 non-null  object \n",
            " 3   artist_name  31674 non-null  object \n",
            " 4   composer     18444 non-null  object \n",
            " 5   lyricist     8854 non-null   object \n",
            " 6   language     31673 non-null  float64\n",
            "dtypes: float64(1), int64(1), object(5)\n",
            "memory usage: 1.7+ MB\n"
          ]
        }
      ]
    },
    {
      "cell_type": "code",
      "source": [
        "df = pd.merge(df, songs, on='song_id', how='left')\n",
        "del songs"
      ],
      "metadata": {
        "id": "FMc_i5UOxvcr"
      },
      "execution_count": null,
      "outputs": []
    },
    {
      "cell_type": "code",
      "source": [
        "df.info()"
      ],
      "metadata": {
        "colab": {
          "base_uri": "https://localhost:8080/"
        },
        "id": "5NT-ThJzx23f",
        "outputId": "1ddb961a-45bf-467d-8b11-c7598bcba465"
      },
      "execution_count": null,
      "outputs": [
        {
          "output_type": "stream",
          "name": "stdout",
          "text": [
            "<class 'pandas.core.frame.DataFrame'>\n",
            "Int64Index: 1556 entries, 0 to 1555\n",
            "Data columns (total 12 columns):\n",
            " #   Column              Non-Null Count  Dtype  \n",
            "---  ------              --------------  -----  \n",
            " 0   msno                1556 non-null   object \n",
            " 1   song_id             1556 non-null   object \n",
            " 2   source_system_tab   1553 non-null   object \n",
            " 3   source_screen_name  1540 non-null   object \n",
            " 4   source_type         1553 non-null   object \n",
            " 5   target              1556 non-null   float64\n",
            " 6   song_length         197 non-null    float64\n",
            " 7   genre_ids           194 non-null    object \n",
            " 8   artist_name         197 non-null    object \n",
            " 9   composer            164 non-null    object \n",
            " 10  lyricist            124 non-null    object \n",
            " 11  language            197 non-null    float64\n",
            "dtypes: float64(3), object(9)\n",
            "memory usage: 158.0+ KB\n"
          ]
        }
      ]
    },
    {
      "cell_type": "code",
      "source": [
        "members = pd.read_csv('members.csv')"
      ],
      "metadata": {
        "id": "r6cx7cxkYGC-"
      },
      "execution_count": null,
      "outputs": []
    },
    {
      "cell_type": "code",
      "source": [
        "df = pd.merge(df, members, on='msno', how='left')\n",
        "del members"
      ],
      "metadata": {
        "id": "XaRmfno0YKbk"
      },
      "execution_count": null,
      "outputs": []
    },
    {
      "cell_type": "code",
      "source": [
        "df.info()"
      ],
      "metadata": {
        "colab": {
          "base_uri": "https://localhost:8080/"
        },
        "id": "oqayZkHmYOik",
        "outputId": "83299b97-db6e-4025-9509-f1e141b49932"
      },
      "execution_count": null,
      "outputs": [
        {
          "output_type": "stream",
          "name": "stdout",
          "text": [
            "<class 'pandas.core.frame.DataFrame'>\n",
            "Int64Index: 1556 entries, 0 to 1555\n",
            "Data columns (total 18 columns):\n",
            " #   Column                  Non-Null Count  Dtype  \n",
            "---  ------                  --------------  -----  \n",
            " 0   msno                    1556 non-null   object \n",
            " 1   song_id                 1556 non-null   object \n",
            " 2   source_system_tab       1553 non-null   object \n",
            " 3   source_screen_name      1540 non-null   object \n",
            " 4   source_type             1553 non-null   object \n",
            " 5   target                  1556 non-null   float64\n",
            " 6   song_length             197 non-null    float64\n",
            " 7   genre_ids               194 non-null    object \n",
            " 8   artist_name             197 non-null    object \n",
            " 9   composer                164 non-null    object \n",
            " 10  lyricist                124 non-null    object \n",
            " 11  language                197 non-null    float64\n",
            " 12  city                    1556 non-null   int64  \n",
            " 13  bd                      1556 non-null   int64  \n",
            " 14  gender                  920 non-null    object \n",
            " 15  registered_via          1556 non-null   int64  \n",
            " 16  registration_init_time  1556 non-null   int64  \n",
            " 17  expiration_date         1556 non-null   int64  \n",
            "dtypes: float64(3), int64(5), object(10)\n",
            "memory usage: 231.0+ KB\n"
          ]
        }
      ]
    },
    {
      "cell_type": "markdown",
      "source": [
        "Replace NA"
      ],
      "metadata": {
        "id": "QdGi2d1DaAsx"
      }
    },
    {
      "cell_type": "code",
      "source": [
        "for i in df.select_dtypes(include=['object']).columns:\n",
        "    df[i][df[i].isnull()] = 'unknown'\n",
        "df = df.fillna(value=0)"
      ],
      "metadata": {
        "colab": {
          "base_uri": "https://localhost:8080/"
        },
        "id": "_HVY7pxwYReN",
        "outputId": "6cb663b0-a0d6-4a33-f1c3-65b098ae52ee"
      },
      "execution_count": null,
      "outputs": [
        {
          "output_type": "stream",
          "name": "stderr",
          "text": [
            "/usr/local/lib/python3.7/dist-packages/ipykernel_launcher.py:2: SettingWithCopyWarning: \n",
            "A value is trying to be set on a copy of a slice from a DataFrame\n",
            "\n",
            "See the caveats in the documentation: https://pandas.pydata.org/pandas-docs/stable/user_guide/indexing.html#returning-a-view-versus-a-copy\n",
            "  \n"
          ]
        }
      ]
    },
    {
      "cell_type": "code",
      "source": [
        "df.info()"
      ],
      "metadata": {
        "colab": {
          "base_uri": "https://localhost:8080/"
        },
        "id": "M-tXkHaAYTr8",
        "outputId": "199f571d-3182-4e1d-9c9b-0cc291b1412b"
      },
      "execution_count": null,
      "outputs": [
        {
          "output_type": "stream",
          "name": "stdout",
          "text": [
            "<class 'pandas.core.frame.DataFrame'>\n",
            "Int64Index: 1556 entries, 0 to 1555\n",
            "Data columns (total 18 columns):\n",
            " #   Column                  Non-Null Count  Dtype  \n",
            "---  ------                  --------------  -----  \n",
            " 0   msno                    1556 non-null   object \n",
            " 1   song_id                 1556 non-null   object \n",
            " 2   source_system_tab       1556 non-null   object \n",
            " 3   source_screen_name      1556 non-null   object \n",
            " 4   source_type             1556 non-null   object \n",
            " 5   target                  1556 non-null   float64\n",
            " 6   song_length             1556 non-null   float64\n",
            " 7   genre_ids               1556 non-null   object \n",
            " 8   artist_name             1556 non-null   object \n",
            " 9   composer                1556 non-null   object \n",
            " 10  lyricist                1556 non-null   object \n",
            " 11  language                1556 non-null   float64\n",
            " 12  city                    1556 non-null   int64  \n",
            " 13  bd                      1556 non-null   int64  \n",
            " 14  gender                  1556 non-null   object \n",
            " 15  registered_via          1556 non-null   int64  \n",
            " 16  registration_init_time  1556 non-null   int64  \n",
            " 17  expiration_date         1556 non-null   int64  \n",
            "dtypes: float64(3), int64(5), object(10)\n",
            "memory usage: 231.0+ KB\n"
          ]
        }
      ]
    },
    {
      "cell_type": "markdown",
      "source": [
        "Create dates"
      ],
      "metadata": {
        "id": "emDw_PjCaDvK"
      }
    },
    {
      "cell_type": "code",
      "source": [
        "df.registration_init_time = pd.to_datetime(df.registration_init_time, format='%Y%m%d', errors='ignore')\n",
        "df['registration_init_time_year'] = df['registration_init_time'].dt.year\n",
        "df['registration_init_time_month'] = df['registration_init_time'].dt.month\n",
        "df['registration_init_time_day'] = df['registration_init_time'].dt.day\n",
        "\n",
        "# expiration_date\n",
        "df.expiration_date = pd.to_datetime(df.expiration_date,  format='%Y%m%d', errors='ignore')\n",
        "df['expiration_date_year'] = df['expiration_date'].dt.year\n",
        "df['expiration_date_month'] = df['expiration_date'].dt.month\n",
        "df['expiration_date_day'] = df['expiration_date'].dt.day"
      ],
      "metadata": {
        "id": "xQqPQMndYWAZ"
      },
      "execution_count": null,
      "outputs": []
    },
    {
      "cell_type": "code",
      "source": [
        "df['registration_init_time'] = df['registration_init_time'].astype('category')\n",
        "df['expiration_date'] = df['expiration_date'].astype('category')"
      ],
      "metadata": {
        "id": "5HRfW3TcYYJf"
      },
      "execution_count": null,
      "outputs": []
    },
    {
      "cell_type": "code",
      "source": [
        "for col in df.select_dtypes(include=['object']).columns:\n",
        "    df[col] = df[col].astype('category')\n",
        "    \n",
        "# Encoding categorical features\n",
        "for col in df.select_dtypes(include=['category']).columns:\n",
        "    df[col] = df[col].cat.codes"
      ],
      "metadata": {
        "id": "OHeoaGvTYa9g"
      },
      "execution_count": null,
      "outputs": []
    },
    {
      "cell_type": "code",
      "source": [
        "df.corr()"
      ],
      "metadata": {
        "colab": {
          "base_uri": "https://localhost:8080/",
          "height": 895
        },
        "id": "RCdUlndGYdAL",
        "outputId": "71d42796-7bce-40dc-b061-6cb0babcc0b7"
      },
      "execution_count": null,
      "outputs": [
        {
          "output_type": "execute_result",
          "data": {
            "text/plain": [
              "                                  msno   song_id  source_system_tab  \\\n",
              "msno                          1.000000 -0.029360          -0.004837   \n",
              "song_id                      -0.029360  1.000000          -0.027667   \n",
              "source_system_tab            -0.004837 -0.027667           1.000000   \n",
              "source_screen_name            0.039080 -0.001432          -0.001903   \n",
              "source_type                  -0.037712 -0.014978          -0.198355   \n",
              "target                        0.018041  0.013217           0.122089   \n",
              "song_length                  -0.002079  0.019871           0.039765   \n",
              "genre_ids                    -0.002497 -0.011585          -0.027405   \n",
              "artist_name                   0.010980  0.004980          -0.000094   \n",
              "composer                     -0.024288 -0.021498          -0.030508   \n",
              "lyricist                     -0.009094 -0.007123          -0.015897   \n",
              "language                      0.027795  0.000315           0.035670   \n",
              "city                          0.057147  0.044013           0.029962   \n",
              "bd                            0.016440  0.032329          -0.021217   \n",
              "gender                       -0.037901 -0.068965           0.019226   \n",
              "registered_via               -0.009414  0.002024           0.013230   \n",
              "registration_init_time       -0.006448 -0.023333          -0.053235   \n",
              "expiration_date               0.025573  0.025454           0.005117   \n",
              "registration_init_time_year  -0.025834 -0.016031          -0.040713   \n",
              "registration_init_time_month  0.087906  0.007618          -0.041680   \n",
              "registration_init_time_day    0.008393  0.007930          -0.007765   \n",
              "expiration_date_year          0.048118  0.045946           0.023117   \n",
              "expiration_date_month        -0.048327 -0.038278          -0.026839   \n",
              "expiration_date_day           0.040780 -0.003455           0.016544   \n",
              "\n",
              "                              source_screen_name  source_type    target  \\\n",
              "msno                                    0.039080    -0.037712  0.018041   \n",
              "song_id                                -0.001432    -0.014978  0.013217   \n",
              "source_system_tab                      -0.001903    -0.198355  0.122089   \n",
              "source_screen_name                      1.000000     0.176396 -0.088597   \n",
              "source_type                             0.176396     1.000000 -0.146435   \n",
              "target                                 -0.088597    -0.146435  1.000000   \n",
              "song_length                             0.033045    -0.036643  0.017345   \n",
              "genre_ids                              -0.014271     0.044598 -0.017319   \n",
              "artist_name                             0.013356    -0.025888  0.016379   \n",
              "composer                               -0.031957     0.001909 -0.027659   \n",
              "lyricist                               -0.009503    -0.012182  0.001621   \n",
              "language                                0.003414    -0.036166  0.028557   \n",
              "city                                    0.011136     0.020554  0.033307   \n",
              "bd                                      0.011637     0.055488 -0.005607   \n",
              "gender                                 -0.023786    -0.036955 -0.017017   \n",
              "registered_via                          0.014723     0.021672 -0.001267   \n",
              "registration_init_time                  0.009184    -0.008840 -0.022223   \n",
              "expiration_date                         0.022949     0.003045  0.080507   \n",
              "registration_init_time_year            -0.004910    -0.019908 -0.021354   \n",
              "registration_init_time_month            0.069377     0.076485 -0.017983   \n",
              "registration_init_time_day              0.022461     0.021521  0.011721   \n",
              "expiration_date_year                   -0.020553    -0.037592  0.051879   \n",
              "expiration_date_month                   0.034676     0.069958  0.041173   \n",
              "expiration_date_day                     0.042159    -0.047221  0.031038   \n",
              "\n",
              "                              song_length  genre_ids  artist_name  composer  \\\n",
              "msno                            -0.002079  -0.002497     0.010980 -0.024288   \n",
              "song_id                          0.019871  -0.011585     0.004980 -0.021498   \n",
              "source_system_tab                0.039765  -0.027405    -0.000094 -0.030508   \n",
              "source_screen_name               0.033045  -0.014271     0.013356 -0.031957   \n",
              "source_type                     -0.036643   0.044598    -0.025888  0.001909   \n",
              "target                           0.017345  -0.017319     0.016379 -0.027659   \n",
              "song_length                      1.000000  -0.885892     0.326935  0.017115   \n",
              "genre_ids                       -0.885892   1.000000    -0.128268  0.081180   \n",
              "artist_name                      0.326935  -0.128268     1.000000  0.473543   \n",
              "composer                         0.017115   0.081180     0.473543  1.000000   \n",
              "lyricist                         0.432107  -0.332347     0.500087  0.727102   \n",
              "language                         0.565524  -0.692778    -0.314723 -0.433085   \n",
              "city                             0.002421   0.004877    -0.015936  0.046570   \n",
              "bd                              -0.023912   0.024598    -0.052599  0.011249   \n",
              "gender                           0.005651  -0.017804     0.042302 -0.029589   \n",
              "registered_via                   0.001790  -0.010004     0.022621  0.009868   \n",
              "registration_init_time          -0.007093   0.006125     0.013417 -0.014293   \n",
              "expiration_date                  0.015923  -0.011054     0.004776  0.008618   \n",
              "registration_init_time_year     -0.013651   0.009697     0.008477 -0.007768   \n",
              "registration_init_time_month    -0.005370   0.011358     0.012825 -0.045432   \n",
              "registration_init_time_day      -0.006641   0.004332     0.038900  0.019310   \n",
              "expiration_date_year             0.021859  -0.017914    -0.020088 -0.001026   \n",
              "expiration_date_month           -0.027832   0.023982     0.042412  0.013464   \n",
              "expiration_date_day              0.028188  -0.033192    -0.009401 -0.024694   \n",
              "\n",
              "                              ...    gender  registered_via  \\\n",
              "msno                          ... -0.037901       -0.009414   \n",
              "song_id                       ... -0.068965        0.002024   \n",
              "source_system_tab             ...  0.019226        0.013230   \n",
              "source_screen_name            ... -0.023786        0.014723   \n",
              "source_type                   ... -0.036955        0.021672   \n",
              "target                        ... -0.017017       -0.001267   \n",
              "song_length                   ...  0.005651        0.001790   \n",
              "genre_ids                     ... -0.017804       -0.010004   \n",
              "artist_name                   ...  0.042302        0.022621   \n",
              "composer                      ... -0.029589        0.009868   \n",
              "lyricist                      ... -0.043693        0.024025   \n",
              "language                      ... -0.010013        0.010143   \n",
              "city                          ... -0.595292        0.072485   \n",
              "bd                            ... -0.770829        0.138689   \n",
              "gender                        ...  1.000000       -0.121505   \n",
              "registered_via                ... -0.121505        1.000000   \n",
              "registration_init_time        ...  0.346300       -0.369926   \n",
              "expiration_date               ... -0.217495        0.143284   \n",
              "registration_init_time_year   ...  0.359022       -0.388887   \n",
              "registration_init_time_month  ...  0.053055       -0.060325   \n",
              "registration_init_time_day    ...  0.017619       -0.039847   \n",
              "expiration_date_year          ... -0.184855        0.115048   \n",
              "expiration_date_month         ...  0.033729        0.001959   \n",
              "expiration_date_day           ...  0.004875        0.018942   \n",
              "\n",
              "                              registration_init_time  expiration_date  \\\n",
              "msno                                       -0.006448         0.025573   \n",
              "song_id                                    -0.023333         0.025454   \n",
              "source_system_tab                          -0.053235         0.005117   \n",
              "source_screen_name                          0.009184         0.022949   \n",
              "source_type                                -0.008840         0.003045   \n",
              "target                                     -0.022223         0.080507   \n",
              "song_length                                -0.007093         0.015923   \n",
              "genre_ids                                   0.006125        -0.011054   \n",
              "artist_name                                 0.013417         0.004776   \n",
              "composer                                   -0.014293         0.008618   \n",
              "lyricist                                   -0.036807         0.012177   \n",
              "language                                    0.003189         0.028079   \n",
              "city                                       -0.301734         0.273806   \n",
              "bd                                         -0.423354         0.227005   \n",
              "gender                                      0.346300        -0.217495   \n",
              "registered_via                             -0.369926         0.143284   \n",
              "registration_init_time                      1.000000        -0.147646   \n",
              "expiration_date                            -0.147646         1.000000   \n",
              "registration_init_time_year                 0.957774        -0.136794   \n",
              "registration_init_time_month                0.031237        -0.021029   \n",
              "registration_init_time_day                  0.045417        -0.095095   \n",
              "expiration_date_year                       -0.106987         0.813441   \n",
              "expiration_date_month                      -0.007708        -0.001887   \n",
              "expiration_date_day                        -0.029669         0.106778   \n",
              "\n",
              "                              registration_init_time_year  \\\n",
              "msno                                            -0.025834   \n",
              "song_id                                         -0.016031   \n",
              "source_system_tab                               -0.040713   \n",
              "source_screen_name                              -0.004910   \n",
              "source_type                                     -0.019908   \n",
              "target                                          -0.021354   \n",
              "song_length                                     -0.013651   \n",
              "genre_ids                                        0.009697   \n",
              "artist_name                                      0.008477   \n",
              "composer                                        -0.007768   \n",
              "lyricist                                        -0.027404   \n",
              "language                                         0.004172   \n",
              "city                                            -0.293662   \n",
              "bd                                              -0.435611   \n",
              "gender                                           0.359022   \n",
              "registered_via                                  -0.388887   \n",
              "registration_init_time                           0.957774   \n",
              "expiration_date                                 -0.136794   \n",
              "registration_init_time_year                      1.000000   \n",
              "registration_init_time_month                    -0.087245   \n",
              "registration_init_time_day                       0.017541   \n",
              "expiration_date_year                            -0.088085   \n",
              "expiration_date_month                           -0.021224   \n",
              "expiration_date_day                             -0.034035   \n",
              "\n",
              "                              registration_init_time_month  \\\n",
              "msno                                              0.087906   \n",
              "song_id                                           0.007618   \n",
              "source_system_tab                                -0.041680   \n",
              "source_screen_name                                0.069377   \n",
              "source_type                                       0.076485   \n",
              "target                                           -0.017983   \n",
              "song_length                                      -0.005370   \n",
              "genre_ids                                         0.011358   \n",
              "artist_name                                       0.012825   \n",
              "composer                                         -0.045432   \n",
              "lyricist                                         -0.035756   \n",
              "language                                         -0.019579   \n",
              "city                                             -0.031898   \n",
              "bd                                               -0.019101   \n",
              "gender                                            0.053055   \n",
              "registered_via                                   -0.060325   \n",
              "registration_init_time                            0.031237   \n",
              "expiration_date                                  -0.021029   \n",
              "registration_init_time_year                      -0.087245   \n",
              "registration_init_time_month                      1.000000   \n",
              "registration_init_time_day                        0.067085   \n",
              "expiration_date_year                             -0.033665   \n",
              "expiration_date_month                             0.013879   \n",
              "expiration_date_day                              -0.012054   \n",
              "\n",
              "                              registration_init_time_day  \\\n",
              "msno                                            0.008393   \n",
              "song_id                                         0.007930   \n",
              "source_system_tab                              -0.007765   \n",
              "source_screen_name                              0.022461   \n",
              "source_type                                     0.021521   \n",
              "target                                          0.011721   \n",
              "song_length                                    -0.006641   \n",
              "genre_ids                                       0.004332   \n",
              "artist_name                                     0.038900   \n",
              "composer                                        0.019310   \n",
              "lyricist                                       -0.008765   \n",
              "language                                       -0.010659   \n",
              "city                                           -0.014022   \n",
              "bd                                             -0.018079   \n",
              "gender                                          0.017619   \n",
              "registered_via                                 -0.039847   \n",
              "registration_init_time                          0.045417   \n",
              "expiration_date                                -0.095095   \n",
              "registration_init_time_year                     0.017541   \n",
              "registration_init_time_month                    0.067085   \n",
              "registration_init_time_day                      1.000000   \n",
              "expiration_date_year                           -0.121871   \n",
              "expiration_date_month                           0.063099   \n",
              "expiration_date_day                             0.146230   \n",
              "\n",
              "                              expiration_date_year  expiration_date_month  \\\n",
              "msno                                      0.048118              -0.048327   \n",
              "song_id                                   0.045946              -0.038278   \n",
              "source_system_tab                         0.023117              -0.026839   \n",
              "source_screen_name                       -0.020553               0.034676   \n",
              "source_type                              -0.037592               0.069958   \n",
              "target                                    0.051879               0.041173   \n",
              "song_length                               0.021859              -0.027832   \n",
              "genre_ids                                -0.017914               0.023982   \n",
              "artist_name                              -0.020088               0.042412   \n",
              "composer                                 -0.001026               0.013464   \n",
              "lyricist                                  0.008993               0.004949   \n",
              "language                                  0.046242              -0.045832   \n",
              "city                                      0.247311              -0.054799   \n",
              "bd                                        0.189129              -0.022731   \n",
              "gender                                   -0.184855               0.033729   \n",
              "registered_via                            0.115048               0.001959   \n",
              "registration_init_time                   -0.106987              -0.007708   \n",
              "expiration_date                           0.813441              -0.001887   \n",
              "registration_init_time_year              -0.088085              -0.021224   \n",
              "registration_init_time_month             -0.033665               0.013879   \n",
              "registration_init_time_day               -0.121871               0.063099   \n",
              "expiration_date_year                      1.000000              -0.550116   \n",
              "expiration_date_month                    -0.550116               1.000000   \n",
              "expiration_date_day                       0.037106              -0.038944   \n",
              "\n",
              "                              expiration_date_day  \n",
              "msno                                     0.040780  \n",
              "song_id                                 -0.003455  \n",
              "source_system_tab                        0.016544  \n",
              "source_screen_name                       0.042159  \n",
              "source_type                             -0.047221  \n",
              "target                                   0.031038  \n",
              "song_length                              0.028188  \n",
              "genre_ids                               -0.033192  \n",
              "artist_name                             -0.009401  \n",
              "composer                                -0.024694  \n",
              "lyricist                                -0.025411  \n",
              "language                                 0.025897  \n",
              "city                                     0.044606  \n",
              "bd                                      -0.007047  \n",
              "gender                                   0.004875  \n",
              "registered_via                           0.018942  \n",
              "registration_init_time                  -0.029669  \n",
              "expiration_date                          0.106778  \n",
              "registration_init_time_year             -0.034035  \n",
              "registration_init_time_month            -0.012054  \n",
              "registration_init_time_day               0.146230  \n",
              "expiration_date_year                     0.037106  \n",
              "expiration_date_month                   -0.038944  \n",
              "expiration_date_day                      1.000000  \n",
              "\n",
              "[24 rows x 24 columns]"
            ],
            "text/html": [
              "\n",
              "  <div id=\"df-476e0ed4-cde9-4063-b87c-d10c8e03dc5b\">\n",
              "    <div class=\"colab-df-container\">\n",
              "      <div>\n",
              "<style scoped>\n",
              "    .dataframe tbody tr th:only-of-type {\n",
              "        vertical-align: middle;\n",
              "    }\n",
              "\n",
              "    .dataframe tbody tr th {\n",
              "        vertical-align: top;\n",
              "    }\n",
              "\n",
              "    .dataframe thead th {\n",
              "        text-align: right;\n",
              "    }\n",
              "</style>\n",
              "<table border=\"1\" class=\"dataframe\">\n",
              "  <thead>\n",
              "    <tr style=\"text-align: right;\">\n",
              "      <th></th>\n",
              "      <th>msno</th>\n",
              "      <th>song_id</th>\n",
              "      <th>source_system_tab</th>\n",
              "      <th>source_screen_name</th>\n",
              "      <th>source_type</th>\n",
              "      <th>target</th>\n",
              "      <th>song_length</th>\n",
              "      <th>genre_ids</th>\n",
              "      <th>artist_name</th>\n",
              "      <th>composer</th>\n",
              "      <th>...</th>\n",
              "      <th>gender</th>\n",
              "      <th>registered_via</th>\n",
              "      <th>registration_init_time</th>\n",
              "      <th>expiration_date</th>\n",
              "      <th>registration_init_time_year</th>\n",
              "      <th>registration_init_time_month</th>\n",
              "      <th>registration_init_time_day</th>\n",
              "      <th>expiration_date_year</th>\n",
              "      <th>expiration_date_month</th>\n",
              "      <th>expiration_date_day</th>\n",
              "    </tr>\n",
              "  </thead>\n",
              "  <tbody>\n",
              "    <tr>\n",
              "      <th>msno</th>\n",
              "      <td>1.000000</td>\n",
              "      <td>-0.029360</td>\n",
              "      <td>-0.004837</td>\n",
              "      <td>0.039080</td>\n",
              "      <td>-0.037712</td>\n",
              "      <td>0.018041</td>\n",
              "      <td>-0.002079</td>\n",
              "      <td>-0.002497</td>\n",
              "      <td>0.010980</td>\n",
              "      <td>-0.024288</td>\n",
              "      <td>...</td>\n",
              "      <td>-0.037901</td>\n",
              "      <td>-0.009414</td>\n",
              "      <td>-0.006448</td>\n",
              "      <td>0.025573</td>\n",
              "      <td>-0.025834</td>\n",
              "      <td>0.087906</td>\n",
              "      <td>0.008393</td>\n",
              "      <td>0.048118</td>\n",
              "      <td>-0.048327</td>\n",
              "      <td>0.040780</td>\n",
              "    </tr>\n",
              "    <tr>\n",
              "      <th>song_id</th>\n",
              "      <td>-0.029360</td>\n",
              "      <td>1.000000</td>\n",
              "      <td>-0.027667</td>\n",
              "      <td>-0.001432</td>\n",
              "      <td>-0.014978</td>\n",
              "      <td>0.013217</td>\n",
              "      <td>0.019871</td>\n",
              "      <td>-0.011585</td>\n",
              "      <td>0.004980</td>\n",
              "      <td>-0.021498</td>\n",
              "      <td>...</td>\n",
              "      <td>-0.068965</td>\n",
              "      <td>0.002024</td>\n",
              "      <td>-0.023333</td>\n",
              "      <td>0.025454</td>\n",
              "      <td>-0.016031</td>\n",
              "      <td>0.007618</td>\n",
              "      <td>0.007930</td>\n",
              "      <td>0.045946</td>\n",
              "      <td>-0.038278</td>\n",
              "      <td>-0.003455</td>\n",
              "    </tr>\n",
              "    <tr>\n",
              "      <th>source_system_tab</th>\n",
              "      <td>-0.004837</td>\n",
              "      <td>-0.027667</td>\n",
              "      <td>1.000000</td>\n",
              "      <td>-0.001903</td>\n",
              "      <td>-0.198355</td>\n",
              "      <td>0.122089</td>\n",
              "      <td>0.039765</td>\n",
              "      <td>-0.027405</td>\n",
              "      <td>-0.000094</td>\n",
              "      <td>-0.030508</td>\n",
              "      <td>...</td>\n",
              "      <td>0.019226</td>\n",
              "      <td>0.013230</td>\n",
              "      <td>-0.053235</td>\n",
              "      <td>0.005117</td>\n",
              "      <td>-0.040713</td>\n",
              "      <td>-0.041680</td>\n",
              "      <td>-0.007765</td>\n",
              "      <td>0.023117</td>\n",
              "      <td>-0.026839</td>\n",
              "      <td>0.016544</td>\n",
              "    </tr>\n",
              "    <tr>\n",
              "      <th>source_screen_name</th>\n",
              "      <td>0.039080</td>\n",
              "      <td>-0.001432</td>\n",
              "      <td>-0.001903</td>\n",
              "      <td>1.000000</td>\n",
              "      <td>0.176396</td>\n",
              "      <td>-0.088597</td>\n",
              "      <td>0.033045</td>\n",
              "      <td>-0.014271</td>\n",
              "      <td>0.013356</td>\n",
              "      <td>-0.031957</td>\n",
              "      <td>...</td>\n",
              "      <td>-0.023786</td>\n",
              "      <td>0.014723</td>\n",
              "      <td>0.009184</td>\n",
              "      <td>0.022949</td>\n",
              "      <td>-0.004910</td>\n",
              "      <td>0.069377</td>\n",
              "      <td>0.022461</td>\n",
              "      <td>-0.020553</td>\n",
              "      <td>0.034676</td>\n",
              "      <td>0.042159</td>\n",
              "    </tr>\n",
              "    <tr>\n",
              "      <th>source_type</th>\n",
              "      <td>-0.037712</td>\n",
              "      <td>-0.014978</td>\n",
              "      <td>-0.198355</td>\n",
              "      <td>0.176396</td>\n",
              "      <td>1.000000</td>\n",
              "      <td>-0.146435</td>\n",
              "      <td>-0.036643</td>\n",
              "      <td>0.044598</td>\n",
              "      <td>-0.025888</td>\n",
              "      <td>0.001909</td>\n",
              "      <td>...</td>\n",
              "      <td>-0.036955</td>\n",
              "      <td>0.021672</td>\n",
              "      <td>-0.008840</td>\n",
              "      <td>0.003045</td>\n",
              "      <td>-0.019908</td>\n",
              "      <td>0.076485</td>\n",
              "      <td>0.021521</td>\n",
              "      <td>-0.037592</td>\n",
              "      <td>0.069958</td>\n",
              "      <td>-0.047221</td>\n",
              "    </tr>\n",
              "    <tr>\n",
              "      <th>target</th>\n",
              "      <td>0.018041</td>\n",
              "      <td>0.013217</td>\n",
              "      <td>0.122089</td>\n",
              "      <td>-0.088597</td>\n",
              "      <td>-0.146435</td>\n",
              "      <td>1.000000</td>\n",
              "      <td>0.017345</td>\n",
              "      <td>-0.017319</td>\n",
              "      <td>0.016379</td>\n",
              "      <td>-0.027659</td>\n",
              "      <td>...</td>\n",
              "      <td>-0.017017</td>\n",
              "      <td>-0.001267</td>\n",
              "      <td>-0.022223</td>\n",
              "      <td>0.080507</td>\n",
              "      <td>-0.021354</td>\n",
              "      <td>-0.017983</td>\n",
              "      <td>0.011721</td>\n",
              "      <td>0.051879</td>\n",
              "      <td>0.041173</td>\n",
              "      <td>0.031038</td>\n",
              "    </tr>\n",
              "    <tr>\n",
              "      <th>song_length</th>\n",
              "      <td>-0.002079</td>\n",
              "      <td>0.019871</td>\n",
              "      <td>0.039765</td>\n",
              "      <td>0.033045</td>\n",
              "      <td>-0.036643</td>\n",
              "      <td>0.017345</td>\n",
              "      <td>1.000000</td>\n",
              "      <td>-0.885892</td>\n",
              "      <td>0.326935</td>\n",
              "      <td>0.017115</td>\n",
              "      <td>...</td>\n",
              "      <td>0.005651</td>\n",
              "      <td>0.001790</td>\n",
              "      <td>-0.007093</td>\n",
              "      <td>0.015923</td>\n",
              "      <td>-0.013651</td>\n",
              "      <td>-0.005370</td>\n",
              "      <td>-0.006641</td>\n",
              "      <td>0.021859</td>\n",
              "      <td>-0.027832</td>\n",
              "      <td>0.028188</td>\n",
              "    </tr>\n",
              "    <tr>\n",
              "      <th>genre_ids</th>\n",
              "      <td>-0.002497</td>\n",
              "      <td>-0.011585</td>\n",
              "      <td>-0.027405</td>\n",
              "      <td>-0.014271</td>\n",
              "      <td>0.044598</td>\n",
              "      <td>-0.017319</td>\n",
              "      <td>-0.885892</td>\n",
              "      <td>1.000000</td>\n",
              "      <td>-0.128268</td>\n",
              "      <td>0.081180</td>\n",
              "      <td>...</td>\n",
              "      <td>-0.017804</td>\n",
              "      <td>-0.010004</td>\n",
              "      <td>0.006125</td>\n",
              "      <td>-0.011054</td>\n",
              "      <td>0.009697</td>\n",
              "      <td>0.011358</td>\n",
              "      <td>0.004332</td>\n",
              "      <td>-0.017914</td>\n",
              "      <td>0.023982</td>\n",
              "      <td>-0.033192</td>\n",
              "    </tr>\n",
              "    <tr>\n",
              "      <th>artist_name</th>\n",
              "      <td>0.010980</td>\n",
              "      <td>0.004980</td>\n",
              "      <td>-0.000094</td>\n",
              "      <td>0.013356</td>\n",
              "      <td>-0.025888</td>\n",
              "      <td>0.016379</td>\n",
              "      <td>0.326935</td>\n",
              "      <td>-0.128268</td>\n",
              "      <td>1.000000</td>\n",
              "      <td>0.473543</td>\n",
              "      <td>...</td>\n",
              "      <td>0.042302</td>\n",
              "      <td>0.022621</td>\n",
              "      <td>0.013417</td>\n",
              "      <td>0.004776</td>\n",
              "      <td>0.008477</td>\n",
              "      <td>0.012825</td>\n",
              "      <td>0.038900</td>\n",
              "      <td>-0.020088</td>\n",
              "      <td>0.042412</td>\n",
              "      <td>-0.009401</td>\n",
              "    </tr>\n",
              "    <tr>\n",
              "      <th>composer</th>\n",
              "      <td>-0.024288</td>\n",
              "      <td>-0.021498</td>\n",
              "      <td>-0.030508</td>\n",
              "      <td>-0.031957</td>\n",
              "      <td>0.001909</td>\n",
              "      <td>-0.027659</td>\n",
              "      <td>0.017115</td>\n",
              "      <td>0.081180</td>\n",
              "      <td>0.473543</td>\n",
              "      <td>1.000000</td>\n",
              "      <td>...</td>\n",
              "      <td>-0.029589</td>\n",
              "      <td>0.009868</td>\n",
              "      <td>-0.014293</td>\n",
              "      <td>0.008618</td>\n",
              "      <td>-0.007768</td>\n",
              "      <td>-0.045432</td>\n",
              "      <td>0.019310</td>\n",
              "      <td>-0.001026</td>\n",
              "      <td>0.013464</td>\n",
              "      <td>-0.024694</td>\n",
              "    </tr>\n",
              "    <tr>\n",
              "      <th>lyricist</th>\n",
              "      <td>-0.009094</td>\n",
              "      <td>-0.007123</td>\n",
              "      <td>-0.015897</td>\n",
              "      <td>-0.009503</td>\n",
              "      <td>-0.012182</td>\n",
              "      <td>0.001621</td>\n",
              "      <td>0.432107</td>\n",
              "      <td>-0.332347</td>\n",
              "      <td>0.500087</td>\n",
              "      <td>0.727102</td>\n",
              "      <td>...</td>\n",
              "      <td>-0.043693</td>\n",
              "      <td>0.024025</td>\n",
              "      <td>-0.036807</td>\n",
              "      <td>0.012177</td>\n",
              "      <td>-0.027404</td>\n",
              "      <td>-0.035756</td>\n",
              "      <td>-0.008765</td>\n",
              "      <td>0.008993</td>\n",
              "      <td>0.004949</td>\n",
              "      <td>-0.025411</td>\n",
              "    </tr>\n",
              "    <tr>\n",
              "      <th>language</th>\n",
              "      <td>0.027795</td>\n",
              "      <td>0.000315</td>\n",
              "      <td>0.035670</td>\n",
              "      <td>0.003414</td>\n",
              "      <td>-0.036166</td>\n",
              "      <td>0.028557</td>\n",
              "      <td>0.565524</td>\n",
              "      <td>-0.692778</td>\n",
              "      <td>-0.314723</td>\n",
              "      <td>-0.433085</td>\n",
              "      <td>...</td>\n",
              "      <td>-0.010013</td>\n",
              "      <td>0.010143</td>\n",
              "      <td>0.003189</td>\n",
              "      <td>0.028079</td>\n",
              "      <td>0.004172</td>\n",
              "      <td>-0.019579</td>\n",
              "      <td>-0.010659</td>\n",
              "      <td>0.046242</td>\n",
              "      <td>-0.045832</td>\n",
              "      <td>0.025897</td>\n",
              "    </tr>\n",
              "    <tr>\n",
              "      <th>city</th>\n",
              "      <td>0.057147</td>\n",
              "      <td>0.044013</td>\n",
              "      <td>0.029962</td>\n",
              "      <td>0.011136</td>\n",
              "      <td>0.020554</td>\n",
              "      <td>0.033307</td>\n",
              "      <td>0.002421</td>\n",
              "      <td>0.004877</td>\n",
              "      <td>-0.015936</td>\n",
              "      <td>0.046570</td>\n",
              "      <td>...</td>\n",
              "      <td>-0.595292</td>\n",
              "      <td>0.072485</td>\n",
              "      <td>-0.301734</td>\n",
              "      <td>0.273806</td>\n",
              "      <td>-0.293662</td>\n",
              "      <td>-0.031898</td>\n",
              "      <td>-0.014022</td>\n",
              "      <td>0.247311</td>\n",
              "      <td>-0.054799</td>\n",
              "      <td>0.044606</td>\n",
              "    </tr>\n",
              "    <tr>\n",
              "      <th>bd</th>\n",
              "      <td>0.016440</td>\n",
              "      <td>0.032329</td>\n",
              "      <td>-0.021217</td>\n",
              "      <td>0.011637</td>\n",
              "      <td>0.055488</td>\n",
              "      <td>-0.005607</td>\n",
              "      <td>-0.023912</td>\n",
              "      <td>0.024598</td>\n",
              "      <td>-0.052599</td>\n",
              "      <td>0.011249</td>\n",
              "      <td>...</td>\n",
              "      <td>-0.770829</td>\n",
              "      <td>0.138689</td>\n",
              "      <td>-0.423354</td>\n",
              "      <td>0.227005</td>\n",
              "      <td>-0.435611</td>\n",
              "      <td>-0.019101</td>\n",
              "      <td>-0.018079</td>\n",
              "      <td>0.189129</td>\n",
              "      <td>-0.022731</td>\n",
              "      <td>-0.007047</td>\n",
              "    </tr>\n",
              "    <tr>\n",
              "      <th>gender</th>\n",
              "      <td>-0.037901</td>\n",
              "      <td>-0.068965</td>\n",
              "      <td>0.019226</td>\n",
              "      <td>-0.023786</td>\n",
              "      <td>-0.036955</td>\n",
              "      <td>-0.017017</td>\n",
              "      <td>0.005651</td>\n",
              "      <td>-0.017804</td>\n",
              "      <td>0.042302</td>\n",
              "      <td>-0.029589</td>\n",
              "      <td>...</td>\n",
              "      <td>1.000000</td>\n",
              "      <td>-0.121505</td>\n",
              "      <td>0.346300</td>\n",
              "      <td>-0.217495</td>\n",
              "      <td>0.359022</td>\n",
              "      <td>0.053055</td>\n",
              "      <td>0.017619</td>\n",
              "      <td>-0.184855</td>\n",
              "      <td>0.033729</td>\n",
              "      <td>0.004875</td>\n",
              "    </tr>\n",
              "    <tr>\n",
              "      <th>registered_via</th>\n",
              "      <td>-0.009414</td>\n",
              "      <td>0.002024</td>\n",
              "      <td>0.013230</td>\n",
              "      <td>0.014723</td>\n",
              "      <td>0.021672</td>\n",
              "      <td>-0.001267</td>\n",
              "      <td>0.001790</td>\n",
              "      <td>-0.010004</td>\n",
              "      <td>0.022621</td>\n",
              "      <td>0.009868</td>\n",
              "      <td>...</td>\n",
              "      <td>-0.121505</td>\n",
              "      <td>1.000000</td>\n",
              "      <td>-0.369926</td>\n",
              "      <td>0.143284</td>\n",
              "      <td>-0.388887</td>\n",
              "      <td>-0.060325</td>\n",
              "      <td>-0.039847</td>\n",
              "      <td>0.115048</td>\n",
              "      <td>0.001959</td>\n",
              "      <td>0.018942</td>\n",
              "    </tr>\n",
              "    <tr>\n",
              "      <th>registration_init_time</th>\n",
              "      <td>-0.006448</td>\n",
              "      <td>-0.023333</td>\n",
              "      <td>-0.053235</td>\n",
              "      <td>0.009184</td>\n",
              "      <td>-0.008840</td>\n",
              "      <td>-0.022223</td>\n",
              "      <td>-0.007093</td>\n",
              "      <td>0.006125</td>\n",
              "      <td>0.013417</td>\n",
              "      <td>-0.014293</td>\n",
              "      <td>...</td>\n",
              "      <td>0.346300</td>\n",
              "      <td>-0.369926</td>\n",
              "      <td>1.000000</td>\n",
              "      <td>-0.147646</td>\n",
              "      <td>0.957774</td>\n",
              "      <td>0.031237</td>\n",
              "      <td>0.045417</td>\n",
              "      <td>-0.106987</td>\n",
              "      <td>-0.007708</td>\n",
              "      <td>-0.029669</td>\n",
              "    </tr>\n",
              "    <tr>\n",
              "      <th>expiration_date</th>\n",
              "      <td>0.025573</td>\n",
              "      <td>0.025454</td>\n",
              "      <td>0.005117</td>\n",
              "      <td>0.022949</td>\n",
              "      <td>0.003045</td>\n",
              "      <td>0.080507</td>\n",
              "      <td>0.015923</td>\n",
              "      <td>-0.011054</td>\n",
              "      <td>0.004776</td>\n",
              "      <td>0.008618</td>\n",
              "      <td>...</td>\n",
              "      <td>-0.217495</td>\n",
              "      <td>0.143284</td>\n",
              "      <td>-0.147646</td>\n",
              "      <td>1.000000</td>\n",
              "      <td>-0.136794</td>\n",
              "      <td>-0.021029</td>\n",
              "      <td>-0.095095</td>\n",
              "      <td>0.813441</td>\n",
              "      <td>-0.001887</td>\n",
              "      <td>0.106778</td>\n",
              "    </tr>\n",
              "    <tr>\n",
              "      <th>registration_init_time_year</th>\n",
              "      <td>-0.025834</td>\n",
              "      <td>-0.016031</td>\n",
              "      <td>-0.040713</td>\n",
              "      <td>-0.004910</td>\n",
              "      <td>-0.019908</td>\n",
              "      <td>-0.021354</td>\n",
              "      <td>-0.013651</td>\n",
              "      <td>0.009697</td>\n",
              "      <td>0.008477</td>\n",
              "      <td>-0.007768</td>\n",
              "      <td>...</td>\n",
              "      <td>0.359022</td>\n",
              "      <td>-0.388887</td>\n",
              "      <td>0.957774</td>\n",
              "      <td>-0.136794</td>\n",
              "      <td>1.000000</td>\n",
              "      <td>-0.087245</td>\n",
              "      <td>0.017541</td>\n",
              "      <td>-0.088085</td>\n",
              "      <td>-0.021224</td>\n",
              "      <td>-0.034035</td>\n",
              "    </tr>\n",
              "    <tr>\n",
              "      <th>registration_init_time_month</th>\n",
              "      <td>0.087906</td>\n",
              "      <td>0.007618</td>\n",
              "      <td>-0.041680</td>\n",
              "      <td>0.069377</td>\n",
              "      <td>0.076485</td>\n",
              "      <td>-0.017983</td>\n",
              "      <td>-0.005370</td>\n",
              "      <td>0.011358</td>\n",
              "      <td>0.012825</td>\n",
              "      <td>-0.045432</td>\n",
              "      <td>...</td>\n",
              "      <td>0.053055</td>\n",
              "      <td>-0.060325</td>\n",
              "      <td>0.031237</td>\n",
              "      <td>-0.021029</td>\n",
              "      <td>-0.087245</td>\n",
              "      <td>1.000000</td>\n",
              "      <td>0.067085</td>\n",
              "      <td>-0.033665</td>\n",
              "      <td>0.013879</td>\n",
              "      <td>-0.012054</td>\n",
              "    </tr>\n",
              "    <tr>\n",
              "      <th>registration_init_time_day</th>\n",
              "      <td>0.008393</td>\n",
              "      <td>0.007930</td>\n",
              "      <td>-0.007765</td>\n",
              "      <td>0.022461</td>\n",
              "      <td>0.021521</td>\n",
              "      <td>0.011721</td>\n",
              "      <td>-0.006641</td>\n",
              "      <td>0.004332</td>\n",
              "      <td>0.038900</td>\n",
              "      <td>0.019310</td>\n",
              "      <td>...</td>\n",
              "      <td>0.017619</td>\n",
              "      <td>-0.039847</td>\n",
              "      <td>0.045417</td>\n",
              "      <td>-0.095095</td>\n",
              "      <td>0.017541</td>\n",
              "      <td>0.067085</td>\n",
              "      <td>1.000000</td>\n",
              "      <td>-0.121871</td>\n",
              "      <td>0.063099</td>\n",
              "      <td>0.146230</td>\n",
              "    </tr>\n",
              "    <tr>\n",
              "      <th>expiration_date_year</th>\n",
              "      <td>0.048118</td>\n",
              "      <td>0.045946</td>\n",
              "      <td>0.023117</td>\n",
              "      <td>-0.020553</td>\n",
              "      <td>-0.037592</td>\n",
              "      <td>0.051879</td>\n",
              "      <td>0.021859</td>\n",
              "      <td>-0.017914</td>\n",
              "      <td>-0.020088</td>\n",
              "      <td>-0.001026</td>\n",
              "      <td>...</td>\n",
              "      <td>-0.184855</td>\n",
              "      <td>0.115048</td>\n",
              "      <td>-0.106987</td>\n",
              "      <td>0.813441</td>\n",
              "      <td>-0.088085</td>\n",
              "      <td>-0.033665</td>\n",
              "      <td>-0.121871</td>\n",
              "      <td>1.000000</td>\n",
              "      <td>-0.550116</td>\n",
              "      <td>0.037106</td>\n",
              "    </tr>\n",
              "    <tr>\n",
              "      <th>expiration_date_month</th>\n",
              "      <td>-0.048327</td>\n",
              "      <td>-0.038278</td>\n",
              "      <td>-0.026839</td>\n",
              "      <td>0.034676</td>\n",
              "      <td>0.069958</td>\n",
              "      <td>0.041173</td>\n",
              "      <td>-0.027832</td>\n",
              "      <td>0.023982</td>\n",
              "      <td>0.042412</td>\n",
              "      <td>0.013464</td>\n",
              "      <td>...</td>\n",
              "      <td>0.033729</td>\n",
              "      <td>0.001959</td>\n",
              "      <td>-0.007708</td>\n",
              "      <td>-0.001887</td>\n",
              "      <td>-0.021224</td>\n",
              "      <td>0.013879</td>\n",
              "      <td>0.063099</td>\n",
              "      <td>-0.550116</td>\n",
              "      <td>1.000000</td>\n",
              "      <td>-0.038944</td>\n",
              "    </tr>\n",
              "    <tr>\n",
              "      <th>expiration_date_day</th>\n",
              "      <td>0.040780</td>\n",
              "      <td>-0.003455</td>\n",
              "      <td>0.016544</td>\n",
              "      <td>0.042159</td>\n",
              "      <td>-0.047221</td>\n",
              "      <td>0.031038</td>\n",
              "      <td>0.028188</td>\n",
              "      <td>-0.033192</td>\n",
              "      <td>-0.009401</td>\n",
              "      <td>-0.024694</td>\n",
              "      <td>...</td>\n",
              "      <td>0.004875</td>\n",
              "      <td>0.018942</td>\n",
              "      <td>-0.029669</td>\n",
              "      <td>0.106778</td>\n",
              "      <td>-0.034035</td>\n",
              "      <td>-0.012054</td>\n",
              "      <td>0.146230</td>\n",
              "      <td>0.037106</td>\n",
              "      <td>-0.038944</td>\n",
              "      <td>1.000000</td>\n",
              "    </tr>\n",
              "  </tbody>\n",
              "</table>\n",
              "<p>24 rows × 24 columns</p>\n",
              "</div>\n",
              "      <button class=\"colab-df-convert\" onclick=\"convertToInteractive('df-476e0ed4-cde9-4063-b87c-d10c8e03dc5b')\"\n",
              "              title=\"Convert this dataframe to an interactive table.\"\n",
              "              style=\"display:none;\">\n",
              "        \n",
              "  <svg xmlns=\"http://www.w3.org/2000/svg\" height=\"24px\"viewBox=\"0 0 24 24\"\n",
              "       width=\"24px\">\n",
              "    <path d=\"M0 0h24v24H0V0z\" fill=\"none\"/>\n",
              "    <path d=\"M18.56 5.44l.94 2.06.94-2.06 2.06-.94-2.06-.94-.94-2.06-.94 2.06-2.06.94zm-11 1L8.5 8.5l.94-2.06 2.06-.94-2.06-.94L8.5 2.5l-.94 2.06-2.06.94zm10 10l.94 2.06.94-2.06 2.06-.94-2.06-.94-.94-2.06-.94 2.06-2.06.94z\"/><path d=\"M17.41 7.96l-1.37-1.37c-.4-.4-.92-.59-1.43-.59-.52 0-1.04.2-1.43.59L10.3 9.45l-7.72 7.72c-.78.78-.78 2.05 0 2.83L4 21.41c.39.39.9.59 1.41.59.51 0 1.02-.2 1.41-.59l7.78-7.78 2.81-2.81c.8-.78.8-2.07 0-2.86zM5.41 20L4 18.59l7.72-7.72 1.47 1.35L5.41 20z\"/>\n",
              "  </svg>\n",
              "      </button>\n",
              "      \n",
              "  <style>\n",
              "    .colab-df-container {\n",
              "      display:flex;\n",
              "      flex-wrap:wrap;\n",
              "      gap: 12px;\n",
              "    }\n",
              "\n",
              "    .colab-df-convert {\n",
              "      background-color: #E8F0FE;\n",
              "      border: none;\n",
              "      border-radius: 50%;\n",
              "      cursor: pointer;\n",
              "      display: none;\n",
              "      fill: #1967D2;\n",
              "      height: 32px;\n",
              "      padding: 0 0 0 0;\n",
              "      width: 32px;\n",
              "    }\n",
              "\n",
              "    .colab-df-convert:hover {\n",
              "      background-color: #E2EBFA;\n",
              "      box-shadow: 0px 1px 2px rgba(60, 64, 67, 0.3), 0px 1px 3px 1px rgba(60, 64, 67, 0.15);\n",
              "      fill: #174EA6;\n",
              "    }\n",
              "\n",
              "    [theme=dark] .colab-df-convert {\n",
              "      background-color: #3B4455;\n",
              "      fill: #D2E3FC;\n",
              "    }\n",
              "\n",
              "    [theme=dark] .colab-df-convert:hover {\n",
              "      background-color: #434B5C;\n",
              "      box-shadow: 0px 1px 3px 1px rgba(0, 0, 0, 0.15);\n",
              "      filter: drop-shadow(0px 1px 2px rgba(0, 0, 0, 0.3));\n",
              "      fill: #FFFFFF;\n",
              "    }\n",
              "  </style>\n",
              "\n",
              "      <script>\n",
              "        const buttonEl =\n",
              "          document.querySelector('#df-476e0ed4-cde9-4063-b87c-d10c8e03dc5b button.colab-df-convert');\n",
              "        buttonEl.style.display =\n",
              "          google.colab.kernel.accessAllowed ? 'block' : 'none';\n",
              "\n",
              "        async function convertToInteractive(key) {\n",
              "          const element = document.querySelector('#df-476e0ed4-cde9-4063-b87c-d10c8e03dc5b');\n",
              "          const dataTable =\n",
              "            await google.colab.kernel.invokeFunction('convertToInteractive',\n",
              "                                                     [key], {});\n",
              "          if (!dataTable) return;\n",
              "\n",
              "          const docLinkHtml = 'Like what you see? Visit the ' +\n",
              "            '<a target=\"_blank\" href=https://colab.research.google.com/notebooks/data_table.ipynb>data table notebook</a>'\n",
              "            + ' to learn more about interactive tables.';\n",
              "          element.innerHTML = '';\n",
              "          dataTable['output_type'] = 'display_data';\n",
              "          await google.colab.output.renderOutput(dataTable, element);\n",
              "          const docLink = document.createElement('div');\n",
              "          docLink.innerHTML = docLinkHtml;\n",
              "          element.appendChild(docLink);\n",
              "        }\n",
              "      </script>\n",
              "    </div>\n",
              "  </div>\n",
              "  "
            ]
          },
          "metadata": {},
          "execution_count": 19
        }
      ]
    },
    {
      "cell_type": "code",
      "source": [
        "plt.figure(figsize=[7,5])\n",
        "sns.heatmap(df.corr())\n",
        "plt.show()"
      ],
      "metadata": {
        "colab": {
          "base_uri": "https://localhost:8080/",
          "height": 457
        },
        "id": "UyRXIohWYfUf",
        "outputId": "8c4b82b2-1c8d-412d-b65c-00459bfa41c3"
      },
      "execution_count": null,
      "outputs": [
        {
          "output_type": "display_data",
          "data": {
            "text/plain": [
              "<Figure size 504x360 with 2 Axes>"
            ],
            "image/png": "[encoded data removed]"
          },
          "metadata": {
            "needs_background": "light"
          }
        }
      ]
    },
    {
      "cell_type": "markdown",
      "source": [
        "Random forest model"
      ],
      "metadata": {
        "id": "zDL6tEENaIJE"
      }
    },
    {
      "cell_type": "code",
      "source": [
        "model = ensemble.RandomForestClassifier(n_estimators=250, max_depth=25)\n",
        "model.fit(df[df.columns[df.columns != 'target']], df.target)"
      ],
      "metadata": {
        "colab": {
          "base_uri": "https://localhost:8080/"
        },
        "id": "CyHR_1FAYhT4",
        "outputId": "cabed2bd-10a6-4860-cf00-18b9242bd804"
      },
      "execution_count": null,
      "outputs": [
        {
          "output_type": "execute_result",
          "data": {
            "text/plain": [
              "RandomForestClassifier(max_depth=25, n_estimators=250)"
            ]
          },
          "metadata": {},
          "execution_count": 21
        }
      ]
    },
    {
      "cell_type": "code",
      "source": [
        "df_plot = pd.DataFrame({'features': df.columns[df.columns != 'target'],\n",
        "                        'importances': model.feature_importances_})\n",
        "df_plot = df_plot.sort_values('importances', ascending=False)"
      ],
      "metadata": {
        "id": "5Xb4-9wOYjRD"
      },
      "execution_count": null,
      "outputs": []
    },
    {
      "cell_type": "code",
      "source": [
        "plt.figure(figsize=[11,5])\n",
        "sns.barplot(x = df_plot.importances, y = df_plot.features)\n",
        "plt.title('Importances of Features Plot')\n",
        "plt.show()"
      ],
      "metadata": {
        "colab": {
          "base_uri": "https://localhost:8080/",
          "height": 350
        },
        "id": "GtrOfd81YlLD",
        "outputId": "917e8a97-8f1c-4e7c-e184-8609bb2b2a22"
      },
      "execution_count": null,
      "outputs": [
        {
          "output_type": "display_data",
          "data": {
            "text/plain": [
              "<Figure size 792x360 with 1 Axes>"
            ],
            "image/png": "[encoded data removed]"
          },
          "metadata": {
            "needs_background": "light"
          }
        }
      ]
    },
    {
      "cell_type": "code",
      "source": [
        "model.feature_importances_"
      ],
      "metadata": {
        "colab": {
          "base_uri": "https://localhost:8080/"
        },
        "id": "chrXYgM7Ymz2",
        "outputId": "9c396c7d-013a-45b5-96c6-3c279b583cf6"
      },
      "execution_count": null,
      "outputs": [
        {
          "output_type": "execute_result",
          "data": {
            "text/plain": [
              "array([0.08337725, 0.14828671, 0.05029195, 0.06437749, 0.05960496,\n",
              "       0.01180791, 0.00777064, 0.01047513, 0.00978788, 0.00606141,\n",
              "       0.00709034, 0.0387878 , 0.0430524 , 0.01802158, 0.0201458 ,\n",
              "       0.07879906, 0.07902574, 0.03993146, 0.04996212, 0.07033269,\n",
              "       0.00851027, 0.03591402, 0.0585854 ])"
            ]
          },
          "metadata": {},
          "execution_count": 24
        }
      ]
    },
    {
      "cell_type": "code",
      "source": [
        "df = df.drop(df_plot.features[df_plot.importances < 0.04].tolist(), 1)"
      ],
      "metadata": {
        "id": "9V9pUgZQYo0T"
      },
      "execution_count": null,
      "outputs": []
    },
    {
      "cell_type": "code",
      "source": [
        "list(df.columns)"
      ],
      "metadata": {
        "colab": {
          "base_uri": "https://localhost:8080/"
        },
        "id": "9dJt8CH-YqpW",
        "outputId": "16804bb2-bd32-45f0-b230-829a25ffe3df"
      },
      "execution_count": null,
      "outputs": [
        {
          "output_type": "execute_result",
          "data": {
            "text/plain": [
              "['msno',\n",
              " 'song_id',\n",
              " 'source_system_tab',\n",
              " 'source_screen_name',\n",
              " 'source_type',\n",
              " 'target',\n",
              " 'song_length',\n",
              " 'artist_name',\n",
              " 'composer',\n",
              " 'lyricist',\n",
              " 'registration_init_time',\n",
              " 'expiration_date',\n",
              " 'registration_init_time_day',\n",
              " 'expiration_date_day']"
            ]
          },
          "metadata": {},
          "execution_count": 47
        }
      ]
    },
    {
      "cell_type": "code",
      "source": [
        "target = df.pop('target')"
      ],
      "metadata": {
        "id": "V-IHJWYXYstr"
      },
      "execution_count": null,
      "outputs": []
    },
    {
      "cell_type": "code",
      "source": [
        "from sklearn.model_selection import train_test_split"
      ],
      "metadata": {
        "id": "PIH58kBmYujD"
      },
      "execution_count": null,
      "outputs": []
    },
    {
      "cell_type": "code",
      "source": [
        "train_data, test_data, train_labels, test_labels = train_test_split(df, target, test_size = 0.3)\n",
        "model = xgb.XGBClassifier(learning_rate=0.1, max_depth=15, min_child_weight=5, n_estimators=250)\n",
        "model.fit(train_data, train_labels)"
      ],
      "metadata": {
        "colab": {
          "base_uri": "https://localhost:8080/"
        },
        "id": "vYZ0uK9lYwZB",
        "outputId": "849f3f4b-4612-478e-f874-43585516f62f"
      },
      "execution_count": null,
      "outputs": [
        {
          "output_type": "execute_result",
          "data": {
            "text/plain": [
              "XGBClassifier(max_depth=15, min_child_weight=5, n_estimators=250)"
            ]
          },
          "metadata": {},
          "execution_count": 50
        }
      ]
    },
    {
      "cell_type": "code",
      "source": [
        "predict_labels = model.predict(test_data)\n",
        "print(metrics.classification_report(test_labels, predict_labels))"
      ],
      "metadata": {
        "colab": {
          "base_uri": "https://localhost:8080/"
        },
        "id": "63b61AhaYywN",
        "outputId": "4c288553-8414-4c44-acba-654939642719"
      },
      "execution_count": null,
      "outputs": [
        {
          "output_type": "stream",
          "name": "stdout",
          "text": [
            "              precision    recall  f1-score   support\n",
            "\n",
            "         0.0       0.66      0.45      0.53      9959\n",
            "         1.0       0.78      0.89      0.83     22033\n",
            "\n",
            "    accuracy                           0.76     31992\n",
            "   macro avg       0.72      0.67      0.68     31992\n",
            "weighted avg       0.74      0.76      0.74     31992\n",
            "\n"
          ]
        }
      ]
    },
    {
      "cell_type": "markdown",
      "source": [
        "**Conclusion**\n",
        "\n",
        "By using Random Forest Classifier we get accuracy of music recommendation system as 76%."
      ],
      "metadata": {
        "id": "xH4YpzjiZRnw"
      }
    }
  ]
}